{
 "cells": [
  {
   "cell_type": "code",
   "execution_count": 121,
   "metadata": {},
   "outputs": [],
   "source": [
    "import pandas as pd\n",
    "import numpy as np\n",
    "import matplotlib.pyplot as plt\n",
    "import datetime as dt\n",
    "%matplotlib inline\n",
    "\n",
    "plt.style.use('ggplot')\n",
    "import matplotlib\n",
    "matplotlib.rcParams.update({'font.size': 18})"
   ]
  },
  {
   "cell_type": "code",
   "execution_count": 27,
   "metadata": {},
   "outputs": [],
   "source": [
    "day_10_returns = pd.read_csv('10_days_returns.csv', index_col = 'Date')\n",
    "daily_log_returns = pd.read_csv('log_returns.csv', index_col = 'Date')"
   ]
  },
  {
   "cell_type": "markdown",
   "metadata": {},
   "source": [
    "# 1. Данные"
   ]
  },
  {
   "cell_type": "code",
   "execution_count": 3,
   "metadata": {},
   "outputs": [
    {
     "data": {
      "text/html": [
       "<div>\n",
       "<style scoped>\n",
       "    .dataframe tbody tr th:only-of-type {\n",
       "        vertical-align: middle;\n",
       "    }\n",
       "\n",
       "    .dataframe tbody tr th {\n",
       "        vertical-align: top;\n",
       "    }\n",
       "\n",
       "    .dataframe thead th {\n",
       "        text-align: right;\n",
       "    }\n",
       "</style>\n",
       "<table border=\"1\" class=\"dataframe\">\n",
       "  <thead>\n",
       "    <tr style=\"text-align: right;\">\n",
       "      <th></th>\n",
       "      <th>HSBA.UK</th>\n",
       "      <th>BARC.UK</th>\n",
       "      <th>LLOY.UK</th>\n",
       "      <th>RBS.UK</th>\n",
       "      <th>BP.UK</th>\n",
       "      <th>RDSA.UK</th>\n",
       "      <th>RIO.UK</th>\n",
       "      <th>AAL.UK</th>\n",
       "    </tr>\n",
       "    <tr>\n",
       "      <th>Date</th>\n",
       "      <th></th>\n",
       "      <th></th>\n",
       "      <th></th>\n",
       "      <th></th>\n",
       "      <th></th>\n",
       "      <th></th>\n",
       "      <th></th>\n",
       "      <th></th>\n",
       "    </tr>\n",
       "  </thead>\n",
       "  <tbody>\n",
       "    <tr>\n",
       "      <th>2009-01-20</th>\n",
       "      <td>-0.245792</td>\n",
       "      <td>-0.570689</td>\n",
       "      <td>-0.638392</td>\n",
       "      <td>-0.789787</td>\n",
       "      <td>-0.049165</td>\n",
       "      <td>-0.039889</td>\n",
       "      <td>-0.185980</td>\n",
       "      <td>-0.242904</td>\n",
       "    </tr>\n",
       "    <tr>\n",
       "      <th>2009-01-21</th>\n",
       "      <td>-0.194892</td>\n",
       "      <td>-0.626511</td>\n",
       "      <td>-0.648756</td>\n",
       "      <td>-0.752959</td>\n",
       "      <td>-0.086976</td>\n",
       "      <td>-0.089082</td>\n",
       "      <td>-0.127155</td>\n",
       "      <td>-0.189779</td>\n",
       "    </tr>\n",
       "    <tr>\n",
       "      <th>2009-01-22</th>\n",
       "      <td>-0.161517</td>\n",
       "      <td>-0.669258</td>\n",
       "      <td>-0.626603</td>\n",
       "      <td>-0.770249</td>\n",
       "      <td>-0.056389</td>\n",
       "      <td>-0.062640</td>\n",
       "      <td>-0.057660</td>\n",
       "      <td>-0.148328</td>\n",
       "    </tr>\n",
       "    <tr>\n",
       "      <th>2009-01-23</th>\n",
       "      <td>-0.192959</td>\n",
       "      <td>-0.722670</td>\n",
       "      <td>-0.649604</td>\n",
       "      <td>-0.779998</td>\n",
       "      <td>-0.042250</td>\n",
       "      <td>-0.033841</td>\n",
       "      <td>-0.052290</td>\n",
       "      <td>-0.124745</td>\n",
       "    </tr>\n",
       "    <tr>\n",
       "      <th>2009-01-26</th>\n",
       "      <td>-0.154677</td>\n",
       "      <td>-0.465324</td>\n",
       "      <td>-0.509773</td>\n",
       "      <td>-0.716253</td>\n",
       "      <td>-0.014559</td>\n",
       "      <td>-0.006659</td>\n",
       "      <td>0.064955</td>\n",
       "      <td>-0.046174</td>\n",
       "    </tr>\n",
       "  </tbody>\n",
       "</table>\n",
       "</div>"
      ],
      "text/plain": [
       "             HSBA.UK   BARC.UK   LLOY.UK    RBS.UK     BP.UK   RDSA.UK  \\\n",
       "Date                                                                     \n",
       "2009-01-20 -0.245792 -0.570689 -0.638392 -0.789787 -0.049165 -0.039889   \n",
       "2009-01-21 -0.194892 -0.626511 -0.648756 -0.752959 -0.086976 -0.089082   \n",
       "2009-01-22 -0.161517 -0.669258 -0.626603 -0.770249 -0.056389 -0.062640   \n",
       "2009-01-23 -0.192959 -0.722670 -0.649604 -0.779998 -0.042250 -0.033841   \n",
       "2009-01-26 -0.154677 -0.465324 -0.509773 -0.716253 -0.014559 -0.006659   \n",
       "\n",
       "              RIO.UK    AAL.UK  \n",
       "Date                            \n",
       "2009-01-20 -0.185980 -0.242904  \n",
       "2009-01-21 -0.127155 -0.189779  \n",
       "2009-01-22 -0.057660 -0.148328  \n",
       "2009-01-23 -0.052290 -0.124745  \n",
       "2009-01-26  0.064955 -0.046174  "
      ]
     },
     "execution_count": 3,
     "metadata": {},
     "output_type": "execute_result"
    }
   ],
   "source": [
    "day_10_returns.head()"
   ]
  },
  {
   "cell_type": "code",
   "execution_count": 28,
   "metadata": {},
   "outputs": [
    {
     "data": {
      "text/html": [
       "<div>\n",
       "<style scoped>\n",
       "    .dataframe tbody tr th:only-of-type {\n",
       "        vertical-align: middle;\n",
       "    }\n",
       "\n",
       "    .dataframe tbody tr th {\n",
       "        vertical-align: top;\n",
       "    }\n",
       "\n",
       "    .dataframe thead th {\n",
       "        text-align: right;\n",
       "    }\n",
       "</style>\n",
       "<table border=\"1\" class=\"dataframe\">\n",
       "  <thead>\n",
       "    <tr style=\"text-align: right;\">\n",
       "      <th></th>\n",
       "      <th>HSBA.UK</th>\n",
       "      <th>BARC.UK</th>\n",
       "      <th>LLOY.UK</th>\n",
       "      <th>RBS.UK</th>\n",
       "      <th>BP.UK</th>\n",
       "      <th>RDSA.UK</th>\n",
       "      <th>RIO.UK</th>\n",
       "      <th>AAL.UK</th>\n",
       "    </tr>\n",
       "    <tr>\n",
       "      <th>Date</th>\n",
       "      <th></th>\n",
       "      <th></th>\n",
       "      <th></th>\n",
       "      <th></th>\n",
       "      <th></th>\n",
       "      <th></th>\n",
       "      <th></th>\n",
       "      <th></th>\n",
       "    </tr>\n",
       "  </thead>\n",
       "  <tbody>\n",
       "    <tr>\n",
       "      <th>2009-01-08</th>\n",
       "      <td>-0.004263</td>\n",
       "      <td>0.041391</td>\n",
       "      <td>0.035700</td>\n",
       "      <td>0.032131</td>\n",
       "      <td>0.015623</td>\n",
       "      <td>0.019748</td>\n",
       "      <td>-0.046308</td>\n",
       "      <td>-0.060947</td>\n",
       "    </tr>\n",
       "    <tr>\n",
       "      <th>2009-01-09</th>\n",
       "      <td>-0.018528</td>\n",
       "      <td>0.011321</td>\n",
       "      <td>0.023823</td>\n",
       "      <td>0.048230</td>\n",
       "      <td>-0.024721</td>\n",
       "      <td>-0.029211</td>\n",
       "      <td>-0.059539</td>\n",
       "      <td>-0.085504</td>\n",
       "    </tr>\n",
       "    <tr>\n",
       "      <th>2009-01-12</th>\n",
       "      <td>0.016131</td>\n",
       "      <td>0.030917</td>\n",
       "      <td>0.067646</td>\n",
       "      <td>0.035145</td>\n",
       "      <td>-0.019452</td>\n",
       "      <td>-0.008425</td>\n",
       "      <td>-0.014191</td>\n",
       "      <td>-0.026527</td>\n",
       "    </tr>\n",
       "    <tr>\n",
       "      <th>2009-01-13</th>\n",
       "      <td>0.001951</td>\n",
       "      <td>-0.106936</td>\n",
       "      <td>-0.056291</td>\n",
       "      <td>-0.073541</td>\n",
       "      <td>0.012655</td>\n",
       "      <td>0.016224</td>\n",
       "      <td>-0.032909</td>\n",
       "      <td>-0.015284</td>\n",
       "    </tr>\n",
       "    <tr>\n",
       "      <th>2009-01-14</th>\n",
       "      <td>-0.083424</td>\n",
       "      <td>-0.154790</td>\n",
       "      <td>-0.126437</td>\n",
       "      <td>-0.203287</td>\n",
       "      <td>-0.053282</td>\n",
       "      <td>-0.052404</td>\n",
       "      <td>-0.119406</td>\n",
       "      <td>-0.100002</td>\n",
       "    </tr>\n",
       "  </tbody>\n",
       "</table>\n",
       "</div>"
      ],
      "text/plain": [
       "             HSBA.UK   BARC.UK   LLOY.UK    RBS.UK     BP.UK   RDSA.UK  \\\n",
       "Date                                                                     \n",
       "2009-01-08 -0.004263  0.041391  0.035700  0.032131  0.015623  0.019748   \n",
       "2009-01-09 -0.018528  0.011321  0.023823  0.048230 -0.024721 -0.029211   \n",
       "2009-01-12  0.016131  0.030917  0.067646  0.035145 -0.019452 -0.008425   \n",
       "2009-01-13  0.001951 -0.106936 -0.056291 -0.073541  0.012655  0.016224   \n",
       "2009-01-14 -0.083424 -0.154790 -0.126437 -0.203287 -0.053282 -0.052404   \n",
       "\n",
       "              RIO.UK    AAL.UK  \n",
       "Date                            \n",
       "2009-01-08 -0.046308 -0.060947  \n",
       "2009-01-09 -0.059539 -0.085504  \n",
       "2009-01-12 -0.014191 -0.026527  \n",
       "2009-01-13 -0.032909 -0.015284  \n",
       "2009-01-14 -0.119406 -0.100002  "
      ]
     },
     "execution_count": 28,
     "metadata": {},
     "output_type": "execute_result"
    }
   ],
   "source": [
    "daily_log_returns.head()"
   ]
  },
  {
   "cell_type": "markdown",
   "metadata": {},
   "source": [
    "# 2. Описание данных"
   ]
  },
  {
   "cell_type": "markdown",
   "metadata": {},
   "source": [
    "Выведим описательные статистики, skew, kurtosis и автокорреляцию по первому лагу."
   ]
  },
  {
   "cell_type": "code",
   "execution_count": 5,
   "metadata": {},
   "outputs": [],
   "source": [
    "from scipy.stats import skew\n",
    "from scipy.stats import kurtosis"
   ]
  },
  {
   "cell_type": "code",
   "execution_count": 8,
   "metadata": {},
   "outputs": [],
   "source": [
    "description = day_10_returns.describe()\n",
    "\n",
    "colnames = list(day_10_returns.columns)\n",
    "autocorrelation = []\n",
    "\n",
    "for colname in colnames:\n",
    "    autocorrelation.append(day_10_returns[colname].autocorr(lag = 1))\n",
    "    \n",
    "autocorr = pd.DataFrame([autocorrelation], columns = colnames, index=['autocorr'])\n",
    "skews = pd.DataFrame([skew(day_10_returns, axis = 0).tolist()], columns = colnames, index=['skew'])\n",
    "kurt = pd.DataFrame([kurtosis(day_10_returns, axis = 0).tolist()], columns = colnames, index=['kurtosis'])\n",
    "\n",
    "description = description.append(autocorr)\n",
    "description = description.append(skews)\n",
    "description = description.append(kurt)"
   ]
  },
  {
   "cell_type": "code",
   "execution_count": 10,
   "metadata": {},
   "outputs": [
    {
     "data": {
      "text/html": [
       "<div>\n",
       "<style scoped>\n",
       "    .dataframe tbody tr th:only-of-type {\n",
       "        vertical-align: middle;\n",
       "    }\n",
       "\n",
       "    .dataframe tbody tr th {\n",
       "        vertical-align: top;\n",
       "    }\n",
       "\n",
       "    .dataframe thead th {\n",
       "        text-align: right;\n",
       "    }\n",
       "</style>\n",
       "<table border=\"1\" class=\"dataframe\">\n",
       "  <thead>\n",
       "    <tr style=\"text-align: right;\">\n",
       "      <th></th>\n",
       "      <th>HSBA.UK</th>\n",
       "      <th>BARC.UK</th>\n",
       "      <th>LLOY.UK</th>\n",
       "      <th>RBS.UK</th>\n",
       "      <th>BP.UK</th>\n",
       "      <th>RDSA.UK</th>\n",
       "      <th>RIO.UK</th>\n",
       "      <th>AAL.UK</th>\n",
       "    </tr>\n",
       "  </thead>\n",
       "  <tbody>\n",
       "    <tr>\n",
       "      <th>count</th>\n",
       "      <td>749.000000</td>\n",
       "      <td>749.000000</td>\n",
       "      <td>749.000000</td>\n",
       "      <td>749.000000</td>\n",
       "      <td>749.000000</td>\n",
       "      <td>749.000000</td>\n",
       "      <td>749.000000</td>\n",
       "      <td>749.000000</td>\n",
       "    </tr>\n",
       "    <tr>\n",
       "      <th>mean</th>\n",
       "      <td>0.001548</td>\n",
       "      <td>0.013534</td>\n",
       "      <td>-0.000657</td>\n",
       "      <td>0.004652</td>\n",
       "      <td>0.001007</td>\n",
       "      <td>0.004643</td>\n",
       "      <td>0.014518</td>\n",
       "      <td>0.009401</td>\n",
       "    </tr>\n",
       "    <tr>\n",
       "      <th>std</th>\n",
       "      <td>0.064685</td>\n",
       "      <td>0.150058</td>\n",
       "      <td>0.153627</td>\n",
       "      <td>0.147392</td>\n",
       "      <td>0.063216</td>\n",
       "      <td>0.046326</td>\n",
       "      <td>0.084188</td>\n",
       "      <td>0.079307</td>\n",
       "    </tr>\n",
       "    <tr>\n",
       "      <th>min</th>\n",
       "      <td>-0.290343</td>\n",
       "      <td>-0.722670</td>\n",
       "      <td>-0.649604</td>\n",
       "      <td>-0.789787</td>\n",
       "      <td>-0.298137</td>\n",
       "      <td>-0.195308</td>\n",
       "      <td>-0.233768</td>\n",
       "      <td>-0.316247</td>\n",
       "    </tr>\n",
       "    <tr>\n",
       "      <th>25%</th>\n",
       "      <td>-0.030701</td>\n",
       "      <td>-0.051445</td>\n",
       "      <td>-0.067942</td>\n",
       "      <td>-0.064734</td>\n",
       "      <td>-0.028745</td>\n",
       "      <td>-0.024213</td>\n",
       "      <td>-0.037974</td>\n",
       "      <td>-0.040067</td>\n",
       "    </tr>\n",
       "    <tr>\n",
       "      <th>50%</th>\n",
       "      <td>-0.002056</td>\n",
       "      <td>-0.003666</td>\n",
       "      <td>-0.010334</td>\n",
       "      <td>-0.007179</td>\n",
       "      <td>0.005585</td>\n",
       "      <td>0.007588</td>\n",
       "      <td>0.013533</td>\n",
       "      <td>0.009936</td>\n",
       "    </tr>\n",
       "    <tr>\n",
       "      <th>75%</th>\n",
       "      <td>0.030232</td>\n",
       "      <td>0.059088</td>\n",
       "      <td>0.051077</td>\n",
       "      <td>0.062105</td>\n",
       "      <td>0.036411</td>\n",
       "      <td>0.034025</td>\n",
       "      <td>0.066666</td>\n",
       "      <td>0.058990</td>\n",
       "    </tr>\n",
       "    <tr>\n",
       "      <th>max</th>\n",
       "      <td>0.298901</td>\n",
       "      <td>0.953121</td>\n",
       "      <td>1.040486</td>\n",
       "      <td>0.980523</td>\n",
       "      <td>0.314099</td>\n",
       "      <td>0.195335</td>\n",
       "      <td>0.317943</td>\n",
       "      <td>0.334882</td>\n",
       "    </tr>\n",
       "    <tr>\n",
       "      <th>autocorr</th>\n",
       "      <td>0.868376</td>\n",
       "      <td>0.899319</td>\n",
       "      <td>0.886610</td>\n",
       "      <td>0.864620</td>\n",
       "      <td>0.914782</td>\n",
       "      <td>0.887964</td>\n",
       "      <td>0.875743</td>\n",
       "      <td>0.861956</td>\n",
       "    </tr>\n",
       "    <tr>\n",
       "      <th>skew</th>\n",
       "      <td>0.227118</td>\n",
       "      <td>1.614231</td>\n",
       "      <td>1.135613</td>\n",
       "      <td>0.506285</td>\n",
       "      <td>-0.130752</td>\n",
       "      <td>-0.489483</td>\n",
       "      <td>0.150237</td>\n",
       "      <td>-0.149318</td>\n",
       "    </tr>\n",
       "    <tr>\n",
       "      <th>kurtosis</th>\n",
       "      <td>3.567590</td>\n",
       "      <td>10.934831</td>\n",
       "      <td>10.714613</td>\n",
       "      <td>11.508725</td>\n",
       "      <td>3.030405</td>\n",
       "      <td>1.333148</td>\n",
       "      <td>0.647967</td>\n",
       "      <td>1.586696</td>\n",
       "    </tr>\n",
       "  </tbody>\n",
       "</table>\n",
       "</div>"
      ],
      "text/plain": [
       "             HSBA.UK     BARC.UK     LLOY.UK      RBS.UK       BP.UK  \\\n",
       "count     749.000000  749.000000  749.000000  749.000000  749.000000   \n",
       "mean        0.001548    0.013534   -0.000657    0.004652    0.001007   \n",
       "std         0.064685    0.150058    0.153627    0.147392    0.063216   \n",
       "min        -0.290343   -0.722670   -0.649604   -0.789787   -0.298137   \n",
       "25%        -0.030701   -0.051445   -0.067942   -0.064734   -0.028745   \n",
       "50%        -0.002056   -0.003666   -0.010334   -0.007179    0.005585   \n",
       "75%         0.030232    0.059088    0.051077    0.062105    0.036411   \n",
       "max         0.298901    0.953121    1.040486    0.980523    0.314099   \n",
       "autocorr    0.868376    0.899319    0.886610    0.864620    0.914782   \n",
       "skew        0.227118    1.614231    1.135613    0.506285   -0.130752   \n",
       "kurtosis    3.567590   10.934831   10.714613   11.508725    3.030405   \n",
       "\n",
       "             RDSA.UK      RIO.UK      AAL.UK  \n",
       "count     749.000000  749.000000  749.000000  \n",
       "mean        0.004643    0.014518    0.009401  \n",
       "std         0.046326    0.084188    0.079307  \n",
       "min        -0.195308   -0.233768   -0.316247  \n",
       "25%        -0.024213   -0.037974   -0.040067  \n",
       "50%         0.007588    0.013533    0.009936  \n",
       "75%         0.034025    0.066666    0.058990  \n",
       "max         0.195335    0.317943    0.334882  \n",
       "autocorr    0.887964    0.875743    0.861956  \n",
       "skew       -0.489483    0.150237   -0.149318  \n",
       "kurtosis    1.333148    0.647967    1.586696  "
      ]
     },
     "execution_count": 10,
     "metadata": {},
     "output_type": "execute_result"
    }
   ],
   "source": [
    "description"
   ]
  },
  {
   "cell_type": "markdown",
   "metadata": {},
   "source": [
    "# 3. VaR и ES для акций"
   ]
  },
  {
   "cell_type": "markdown",
   "metadata": {},
   "source": [
    "## Дельта-нормальный метод"
   ]
  },
  {
   "cell_type": "markdown",
   "metadata": {},
   "source": [
    "Зададим вектор весов."
   ]
  },
  {
   "cell_type": "code",
   "execution_count": 15,
   "metadata": {},
   "outputs": [],
   "source": [
    "weights = np.array([0.1, 0.1, 0.1, 0.1, 0.175, 0.175, 0.125, 0.125])"
   ]
  },
  {
   "cell_type": "markdown",
   "metadata": {},
   "source": [
    "Найдем ковариационную матрицу."
   ]
  },
  {
   "cell_type": "code",
   "execution_count": 34,
   "metadata": {},
   "outputs": [
    {
     "data": {
      "text/html": [
       "<div>\n",
       "<style scoped>\n",
       "    .dataframe tbody tr th:only-of-type {\n",
       "        vertical-align: middle;\n",
       "    }\n",
       "\n",
       "    .dataframe tbody tr th {\n",
       "        vertical-align: top;\n",
       "    }\n",
       "\n",
       "    .dataframe thead th {\n",
       "        text-align: right;\n",
       "    }\n",
       "</style>\n",
       "<table border=\"1\" class=\"dataframe\">\n",
       "  <thead>\n",
       "    <tr style=\"text-align: right;\">\n",
       "      <th></th>\n",
       "      <th>0</th>\n",
       "      <th>1</th>\n",
       "      <th>2</th>\n",
       "      <th>3</th>\n",
       "      <th>4</th>\n",
       "      <th>5</th>\n",
       "      <th>6</th>\n",
       "      <th>7</th>\n",
       "    </tr>\n",
       "  </thead>\n",
       "  <tbody>\n",
       "    <tr>\n",
       "      <th>0</th>\n",
       "      <td>0.000553</td>\n",
       "      <td>0.000645</td>\n",
       "      <td>0.000716</td>\n",
       "      <td>0.000661</td>\n",
       "      <td>0.000158</td>\n",
       "      <td>0.000175</td>\n",
       "      <td>0.000388</td>\n",
       "      <td>0.000397</td>\n",
       "    </tr>\n",
       "    <tr>\n",
       "      <th>1</th>\n",
       "      <td>0.000645</td>\n",
       "      <td>0.002255</td>\n",
       "      <td>0.001655</td>\n",
       "      <td>0.001554</td>\n",
       "      <td>0.000295</td>\n",
       "      <td>0.000275</td>\n",
       "      <td>0.000701</td>\n",
       "      <td>0.000686</td>\n",
       "    </tr>\n",
       "    <tr>\n",
       "      <th>2</th>\n",
       "      <td>0.000716</td>\n",
       "      <td>0.001655</td>\n",
       "      <td>0.002834</td>\n",
       "      <td>0.002231</td>\n",
       "      <td>0.000237</td>\n",
       "      <td>0.000255</td>\n",
       "      <td>0.000635</td>\n",
       "      <td>0.000684</td>\n",
       "    </tr>\n",
       "    <tr>\n",
       "      <th>3</th>\n",
       "      <td>0.000661</td>\n",
       "      <td>0.001554</td>\n",
       "      <td>0.002231</td>\n",
       "      <td>0.003474</td>\n",
       "      <td>0.000243</td>\n",
       "      <td>0.000222</td>\n",
       "      <td>0.000642</td>\n",
       "      <td>0.000686</td>\n",
       "    </tr>\n",
       "    <tr>\n",
       "      <th>4</th>\n",
       "      <td>0.000158</td>\n",
       "      <td>0.000295</td>\n",
       "      <td>0.000237</td>\n",
       "      <td>0.000243</td>\n",
       "      <td>0.000374</td>\n",
       "      <td>0.000174</td>\n",
       "      <td>0.000248</td>\n",
       "      <td>0.000242</td>\n",
       "    </tr>\n",
       "    <tr>\n",
       "      <th>5</th>\n",
       "      <td>0.000175</td>\n",
       "      <td>0.000275</td>\n",
       "      <td>0.000255</td>\n",
       "      <td>0.000222</td>\n",
       "      <td>0.000174</td>\n",
       "      <td>0.000235</td>\n",
       "      <td>0.000275</td>\n",
       "      <td>0.000267</td>\n",
       "    </tr>\n",
       "    <tr>\n",
       "      <th>6</th>\n",
       "      <td>0.000388</td>\n",
       "      <td>0.000701</td>\n",
       "      <td>0.000635</td>\n",
       "      <td>0.000642</td>\n",
       "      <td>0.000248</td>\n",
       "      <td>0.000275</td>\n",
       "      <td>0.000928</td>\n",
       "      <td>0.000724</td>\n",
       "    </tr>\n",
       "    <tr>\n",
       "      <th>7</th>\n",
       "      <td>0.000397</td>\n",
       "      <td>0.000686</td>\n",
       "      <td>0.000684</td>\n",
       "      <td>0.000686</td>\n",
       "      <td>0.000242</td>\n",
       "      <td>0.000267</td>\n",
       "      <td>0.000724</td>\n",
       "      <td>0.000872</td>\n",
       "    </tr>\n",
       "  </tbody>\n",
       "</table>\n",
       "</div>"
      ],
      "text/plain": [
       "          0         1         2         3         4         5         6  \\\n",
       "0  0.000553  0.000645  0.000716  0.000661  0.000158  0.000175  0.000388   \n",
       "1  0.000645  0.002255  0.001655  0.001554  0.000295  0.000275  0.000701   \n",
       "2  0.000716  0.001655  0.002834  0.002231  0.000237  0.000255  0.000635   \n",
       "3  0.000661  0.001554  0.002231  0.003474  0.000243  0.000222  0.000642   \n",
       "4  0.000158  0.000295  0.000237  0.000243  0.000374  0.000174  0.000248   \n",
       "5  0.000175  0.000275  0.000255  0.000222  0.000174  0.000235  0.000275   \n",
       "6  0.000388  0.000701  0.000635  0.000642  0.000248  0.000275  0.000928   \n",
       "7  0.000397  0.000686  0.000684  0.000686  0.000242  0.000267  0.000724   \n",
       "\n",
       "          7  \n",
       "0  0.000397  \n",
       "1  0.000686  \n",
       "2  0.000684  \n",
       "3  0.000686  \n",
       "4  0.000242  \n",
       "5  0.000267  \n",
       "6  0.000724  \n",
       "7  0.000872  "
      ]
     },
     "execution_count": 34,
     "metadata": {},
     "output_type": "execute_result"
    }
   ],
   "source": [
    "cov = np.array(daily_log_returns.cov())\n",
    "pd.DataFrame(cov)"
   ]
  },
  {
   "cell_type": "markdown",
   "metadata": {},
   "source": [
    "Найдем дисперсию портфеля."
   ]
  },
  {
   "cell_type": "code",
   "execution_count": 63,
   "metadata": {},
   "outputs": [
    {
     "data": {
      "text/plain": [
       "0.02347867646291536"
      ]
     },
     "execution_count": 63,
     "metadata": {},
     "output_type": "execute_result"
    }
   ],
   "source": [
    "var_log_p = weights@cov@weights\n",
    "np.sqrt(var_log_p)"
   ]
  },
  {
   "cell_type": "markdown",
   "metadata": {},
   "source": [
    "### Найдем VaR"
   ]
  },
  {
   "cell_type": "code",
   "execution_count": 64,
   "metadata": {},
   "outputs": [],
   "source": [
    "import scipy.stats as st"
   ]
  },
  {
   "cell_type": "code",
   "execution_count": 65,
   "metadata": {},
   "outputs": [
    {
     "data": {
      "text/plain": [
       "0.17272224309325065"
      ]
     },
     "execution_count": 65,
     "metadata": {},
     "output_type": "execute_result"
    }
   ],
   "source": [
    "VaR_10 = np.sqrt(var_log_p) * st.norm.ppf(.99) * np.sqrt(10)\n",
    "VaR_10"
   ]
  },
  {
   "cell_type": "markdown",
   "metadata": {},
   "source": [
    "### Найдем ES"
   ]
  },
  {
   "cell_type": "code",
   "execution_count": 67,
   "metadata": {},
   "outputs": [
    {
     "data": {
      "text/plain": [
       "0.19788174571782707"
      ]
     },
     "execution_count": 67,
     "metadata": {},
     "output_type": "execute_result"
    }
   ],
   "source": [
    "ES = np.sqrt(var_log_p) * st.norm.pdf(st.norm.ppf(.01))/0.01 * np.sqrt(10)\n",
    "ES"
   ]
  },
  {
   "cell_type": "markdown",
   "metadata": {},
   "source": [
    "## Исторический метод"
   ]
  },
  {
   "cell_type": "markdown",
   "metadata": {},
   "source": [
    "Найдем доходности портфеля."
   ]
  },
  {
   "cell_type": "code",
   "execution_count": 129,
   "metadata": {},
   "outputs": [],
   "source": [
    "return_10_p = day_10_returns@weights"
   ]
  },
  {
   "cell_type": "code",
   "execution_count": 145,
   "metadata": {},
   "outputs": [
    {
     "data": {
      "image/png": "[encoded data removed]",
      "text/plain": [
       "<Figure size 1080x540 with 1 Axes>"
      ]
     },
     "metadata": {},
     "output_type": "display_data"
    }
   ],
   "source": [
    "plt.figure(figsize=(15,7.5))\n",
    "plt.tick_params(labelsize=14)\n",
    "plt.title('Returns distribution')\n",
    "sigma = return_10_p.std()\n",
    "\n",
    "x = np.linspace(-0.4, 0.4, 100)\n",
    "plt.plot(x, st.norm(loc = 0, scale = sigma).pdf(x))\n",
    "\n",
    "\n",
    "plt.hist(var_10_p,bins=50, density = True)\n",
    "plt.legend(['Normal distribution', 'Empirical density']);"
   ]
  },
  {
   "cell_type": "markdown",
   "metadata": {},
   "source": [
    "Найдем VaR."
   ]
  },
  {
   "cell_type": "code",
   "execution_count": 131,
   "metadata": {},
   "outputs": [],
   "source": [
    "var_location = int(np.floor(return_10_p.shape[0] * 0.01))\n",
    "sorted_var_10_p = return_10_p.sort_values()"
   ]
  },
  {
   "cell_type": "code",
   "execution_count": 132,
   "metadata": {},
   "outputs": [
    {
     "data": {
      "text/plain": [
       "-0.1761003463960912"
      ]
     },
     "execution_count": 132,
     "metadata": {},
     "output_type": "execute_result"
    }
   ],
   "source": [
    "sorted_var_10_p[var_location]"
   ]
  },
  {
   "cell_type": "markdown",
   "metadata": {},
   "source": [
    "Найдем ES."
   ]
  },
  {
   "cell_type": "code",
   "execution_count": 133,
   "metadata": {},
   "outputs": [
    {
     "data": {
      "text/plain": [
       "-0.24651355981852946"
      ]
     },
     "execution_count": 133,
     "metadata": {},
     "output_type": "execute_result"
    }
   ],
   "source": [
    "sorted_var_10_p[:var_location].mean()"
   ]
  },
  {
   "cell_type": "code",
   "execution_count": 147,
   "metadata": {},
   "outputs": [
    {
     "data": {
      "image/png": "[encoded data removed]",
      "text/plain": [
       "<Figure size 1080x540 with 1 Axes>"
      ]
     },
     "metadata": {},
     "output_type": "display_data"
    }
   ],
   "source": [
    "plt.figure(figsize=(15,7.5))\n",
    "plt.tick_params(labelsize=14)\n",
    "plt.scatter(sorted_var_10_p, np.linspace(0, 1, return_10_p.shape[0]), s = 20)\n",
    "plt.scatter(sorted_var_10_p[var_location], np.linspace(0, 1, return_10_p.shape[0])[var_location], s = 300)\n",
    "plt.scatter(sorted_var_10_p[:var_location].mean(), np.linspace(0, 1, return_10_p.shape[0])[:var_location].mean(), s = 300)\n",
    "plt.title('Historical Simulation')\n",
    "plt.legend(['Empirical PMF', 'VaR', 'ES']);"
   ]
  }
 ],
 "metadata": {
  "kernelspec": {
   "display_name": "Python 3",
   "language": "python",
   "name": "python3"
  },
  "language_info": {
   "codemirror_mode": {
    "name": "ipython",
    "version": 3
   },
   "file_extension": ".py",
   "mimetype": "text/x-python",
   "name": "python",
   "nbconvert_exporter": "python",
   "pygments_lexer": "ipython3",
   "version": "3.6.6"
  }
 },
 "nbformat": 4,
 "nbformat_minor": 2
}
